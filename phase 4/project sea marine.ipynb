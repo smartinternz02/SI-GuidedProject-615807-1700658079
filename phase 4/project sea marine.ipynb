{
 "cells": [
  {
   "cell_type": "code",
   "execution_count": 1,
   "id": "e473e6a5",
   "metadata": {},
   "outputs": [],
   "source": [
    "from tensorflow.keras.models import Sequential\n",
    "from tensorflow.keras.layers import Dense\n",
    "from tensorflow.keras.layers import Convolution2D\n",
    "from tensorflow.keras.layers import MaxPooling2D\n",
    "from tensorflow.keras.layers import Flatten\n",
    "from keras.preprocessing.image import ImageDataGenerator"
   ]
  },
  {
   "cell_type": "code",
   "execution_count": 2,
   "id": "4022bc0f",
   "metadata": {},
   "outputs": [],
   "source": [
    "train_datagen = ImageDataGenerator(rescale=1./255,shear_range=0.2,horizontal_flip=True)\n",
    "test_datagen = ImageDataGenerator(rescale=1./255)"
   ]
  },
  {
   "cell_type": "code",
   "execution_count": 3,
   "id": "2374b1d7",
   "metadata": {},
   "outputs": [
    {
     "name": "stdout",
     "output_type": "stream",
     "text": [
      "Found 11059 images belonging to 23 classes.\n",
      "Found 2652 images belonging to 23 classes.\n"
     ]
    }
   ],
   "source": [
    "x_train=train_datagen.flow_from_directory(r'C:\\Users\\Tanmay sharma\\Desktop\\ml course material\\project_dataset\\Training',target_size=(64,64),batch_size=32,class_mode =\"categorical\")\n",
    "x_test = test_datagen.flow_from_directory(r'C:\\Users\\Tanmay sharma\\Desktop\\ml course material\\project_dataset\\Testing',target_size=(64,64),batch_size=32,class_mode =\"categorical\")"
   ]
  },
  {
   "cell_type": "code",
   "execution_count": 4,
   "id": "a7a041e8",
   "metadata": {},
   "outputs": [
    {
     "name": "stdout",
     "output_type": "stream",
     "text": [
      "{'Clams': 0, 'Corals': 1, 'Crabs': 2, 'Dolphin': 3, 'Eal': 4, 'Fish': 5, 'Jelly Fish': 6, 'Lobster': 7, 'Nudibranchs': 8, 'Octopus': 9, 'Otter': 10, 'Penguin': 11, 'Puffers': 12, 'Sea Rays': 13, 'Sea Urchins': 14, 'Seahorse': 15, 'Seal': 16, 'Sharks': 17, 'Shrimps': 18, 'Squid': 19, 'Starfish': 20, 'Turtle_Tortoise': 21, 'Whale': 22}\n"
     ]
    }
   ],
   "source": [
    "print(x_test.class_indices)"
   ]
  },
  {
   "cell_type": "code",
   "execution_count": 5,
   "id": "ab4992ca",
   "metadata": {},
   "outputs": [],
   "source": [
    "#model building\n",
    "#1. initializing the model\n",
    "model = Sequential()\n",
    "#2. now we add different layers to the model "
   ]
  },
  {
   "cell_type": "code",
   "execution_count": 6,
   "id": "fd0161c5",
   "metadata": {},
   "outputs": [],
   "source": [
    "#a. adding the convolution layer-(no.of filters, size of filters , input shape , activation = relu)\n",
    "model.add(Convolution2D(32,(3,3),input_shape=(64,64,3),activation=\"relu\"))\n",
    "#input shape is 64,64,3 because it is rgb , if greyscale image then 64,64,1"
   ]
  },
  {
   "cell_type": "code",
   "execution_count": 7,
   "id": "1d62b8cb",
   "metadata": {},
   "outputs": [],
   "source": [
    "#b. most prominent features being extracted - maxpooling \n",
    "\n",
    "model.add(MaxPooling2D(pool_size=(2,2)))"
   ]
  },
  {
   "cell_type": "code",
   "execution_count": 8,
   "id": "9c1656ab",
   "metadata": {},
   "outputs": [],
   "source": [
    "#c. adding the flatten layer to provide it as input for ann\n",
    "model.add(Flatten())"
   ]
  },
  {
   "cell_type": "code",
   "execution_count": 9,
   "id": "e9d33b9a",
   "metadata": {},
   "outputs": [],
   "source": [
    "#now hidden layer of ann as input layer already done\\\n",
    "\n",
    "model.add(Dense(units=128,activation=\"relu\"))"
   ]
  },
  {
   "cell_type": "code",
   "execution_count": 10,
   "id": "1f9df329",
   "metadata": {},
   "outputs": [],
   "source": [
    "#output layer\n",
    "\n",
    "model.add(Dense(units=23,activation=\"softmax\"))"
   ]
  },
  {
   "cell_type": "code",
   "execution_count": 11,
   "id": "d2525875",
   "metadata": {},
   "outputs": [],
   "source": [
    "#compiling the model \n",
    "model.compile(loss=\"categorical_crossentropy\",optimizer=\"adam\",metrics=\"accuracy\")\n"
   ]
  },
  {
   "cell_type": "code",
   "execution_count": 13,
   "id": "5f8af7bc",
   "metadata": {},
   "outputs": [
    {
     "name": "stdout",
     "output_type": "stream",
     "text": [
      "Epoch 1/10\n",
      "346/346 [==============================] - 80s 227ms/step - loss: 2.5479 - accuracy: 0.2516 - val_loss: 2.2652 - val_accuracy: 0.3187\n",
      "Epoch 2/10\n",
      "346/346 [==============================] - 68s 197ms/step - loss: 2.1832 - accuracy: 0.3419 - val_loss: 2.2487 - val_accuracy: 0.3562\n",
      "Epoch 3/10\n",
      "346/346 [==============================] - 67s 194ms/step - loss: 1.9777 - accuracy: 0.4056 - val_loss: 2.0206 - val_accuracy: 0.3875\n",
      "Epoch 4/10\n",
      "346/346 [==============================] - 68s 195ms/step - loss: 1.7909 - accuracy: 0.4589 - val_loss: 2.1182 - val_accuracy: 0.4062\n",
      "Epoch 5/10\n",
      "346/346 [==============================] - 68s 196ms/step - loss: 1.6122 - accuracy: 0.5133 - val_loss: 2.2338 - val_accuracy: 0.3562\n",
      "Epoch 6/10\n",
      "346/346 [==============================] - 66s 190ms/step - loss: 1.4438 - accuracy: 0.5687 - val_loss: 2.2711 - val_accuracy: 0.3406\n",
      "Epoch 7/10\n",
      "346/346 [==============================] - 66s 191ms/step - loss: 1.2695 - accuracy: 0.6235 - val_loss: 1.9708 - val_accuracy: 0.4156\n",
      "Epoch 8/10\n",
      "346/346 [==============================] - 67s 195ms/step - loss: 1.1116 - accuracy: 0.6670 - val_loss: 2.2554 - val_accuracy: 0.3562\n",
      "Epoch 9/10\n",
      "346/346 [==============================] - 69s 201ms/step - loss: 0.9644 - accuracy: 0.7184 - val_loss: 2.3519 - val_accuracy: 0.3719\n",
      "Epoch 10/10\n",
      "346/346 [==============================] - 69s 200ms/step - loss: 0.8305 - accuracy: 0.7620 - val_loss: 2.6863 - val_accuracy: 0.3562\n"
     ]
    },
    {
     "data": {
      "text/plain": [
       "<keras.src.callbacks.History at 0x1709a672990>"
      ]
     },
     "execution_count": 13,
     "metadata": {},
     "output_type": "execute_result"
    }
   ],
   "source": [
    "model.fit(x_train,epochs=10,validation_data=x_test,validation_steps=10)"
   ]
  },
  {
   "cell_type": "code",
   "execution_count": 14,
   "id": "a3e705fb",
   "metadata": {},
   "outputs": [
    {
     "name": "stdout",
     "output_type": "stream",
     "text": [
      "Model: \"sequential\"\n",
      "_________________________________________________________________\n",
      " Layer (type)                Output Shape              Param #   \n",
      "=================================================================\n",
      " conv2d (Conv2D)             (None, 62, 62, 32)        896       \n",
      "                                                                 \n",
      " max_pooling2d (MaxPooling2  (None, 31, 31, 32)        0         \n",
      " D)                                                              \n",
      "                                                                 \n",
      " flatten (Flatten)           (None, 30752)             0         \n",
      "                                                                 \n",
      " dense (Dense)               (None, 128)               3936384   \n",
      "                                                                 \n",
      " dense_1 (Dense)             (None, 23)                2967      \n",
      "                                                                 \n",
      "=================================================================\n",
      "Total params: 3940247 (15.03 MB)\n",
      "Trainable params: 3940247 (15.03 MB)\n",
      "Non-trainable params: 0 (0.00 Byte)\n",
      "_________________________________________________________________\n"
     ]
    }
   ],
   "source": [
    "model.summary()"
   ]
  },
  {
   "cell_type": "code",
   "execution_count": 15,
   "id": "62f6eec3",
   "metadata": {},
   "outputs": [
    {
     "name": "stderr",
     "output_type": "stream",
     "text": [
      "C:\\ANACONDA\\Lib\\site-packages\\keras\\src\\engine\\training.py:3079: UserWarning: You are saving your model as an HDF5 file via `model.save()`. This file format is considered legacy. We recommend using instead the native Keras format, e.g. `model.save('my_model.keras')`.\n",
      "  saving_api.save_model(\n"
     ]
    }
   ],
   "source": [
    "model.save(\"seanimal.h5\")"
   ]
  },
  {
   "cell_type": "code",
   "execution_count": 16,
   "id": "be678234",
   "metadata": {},
   "outputs": [],
   "source": [
    "#testing the model\n",
    "import tensorflow as tensorflow\n",
    "from tensorflow.keras.models import load_model\n",
    "from tensorflow.keras.preprocessing import image\n",
    "import numpy as np\n"
   ]
  },
  {
   "cell_type": "code",
   "execution_count": 17,
   "id": "c98eae08",
   "metadata": {},
   "outputs": [],
   "source": [
    "model = tensorflow.keras.models.load_model(r\"C:\\DL\\PROJECT_seamarine\\seanimal.h5\",compile=False)"
   ]
  },
  {
   "cell_type": "code",
   "execution_count": 18,
   "id": "ad52a13c",
   "metadata": {},
   "outputs": [],
   "source": [
    "img=image.load_img(r\"C:\\Users\\Tanmay sharma\\Desktop\\ml course material\\project_dataset\\Testing\\Turtle_Tortoise\\Turtle_Tortoise (3).png\",target_size=(64,64))\n",
    "#we give target sizee as we traiend the model in 64,64 size"
   ]
  },
  {
   "cell_type": "code",
   "execution_count": 19,
   "id": "90d5d4db",
   "metadata": {},
   "outputs": [
    {
     "data": {
      "image/png": "[encoded data removed]",
      "text/plain": [
       "<PIL.Image.Image image mode=RGB size=64x64>"
      ]
     },
     "execution_count": 19,
     "metadata": {},
     "output_type": "execute_result"
    }
   ],
   "source": [
    "img"
   ]
  },
  {
   "cell_type": "code",
   "execution_count": 20,
   "id": "a715ecfe",
   "metadata": {},
   "outputs": [
    {
     "data": {
      "text/plain": [
       "array([[[  0.,   0.,   0.],\n",
       "        [  0.,   0.,   0.],\n",
       "        [  0.,   0.,   0.],\n",
       "        ...,\n",
       "        [  0.,   0.,   0.],\n",
       "        [  0.,   0.,   0.],\n",
       "        [  0.,   0.,   0.]],\n",
       "\n",
       "       [[  0.,   0.,   0.],\n",
       "        [  0.,   0.,   0.],\n",
       "        [  0.,   0.,   0.],\n",
       "        ...,\n",
       "        [  0.,   0.,   0.],\n",
       "        [  0.,   0.,   0.],\n",
       "        [  0.,   0.,   0.]],\n",
       "\n",
       "       [[  0.,   0.,   0.],\n",
       "        [  0.,   0.,   0.],\n",
       "        [  0.,   0.,   0.],\n",
       "        ...,\n",
       "        [  0.,   0.,   0.],\n",
       "        [  0.,   0.,   0.],\n",
       "        [  0.,   0.,   0.]],\n",
       "\n",
       "       ...,\n",
       "\n",
       "       [[  0.,   0.,   0.],\n",
       "        [179., 131.,  63.],\n",
       "        [  0.,   0.,   0.],\n",
       "        ...,\n",
       "        [  0.,   0.,   0.],\n",
       "        [  0.,   0.,   0.],\n",
       "        [  0.,   0.,   0.]],\n",
       "\n",
       "       [[  0.,   0.,   0.],\n",
       "        [  0.,   0.,   0.],\n",
       "        [  0.,   0.,   0.],\n",
       "        ...,\n",
       "        [  0.,   0.,   0.],\n",
       "        [  0.,   0.,   0.],\n",
       "        [  0.,   0.,   0.]],\n",
       "\n",
       "       [[  0.,   0.,   0.],\n",
       "        [  0.,   0.,   0.],\n",
       "        [  0.,   0.,   0.],\n",
       "        ...,\n",
       "        [  0.,   0.,   0.],\n",
       "        [  0.,   0.,   0.],\n",
       "        [  0.,   0.,   0.]]], dtype=float32)"
      ]
     },
     "execution_count": 20,
     "metadata": {},
     "output_type": "execute_result"
    }
   ],
   "source": [
    "#now the model wouldnt understand if we simply give it the img so we convert it to an array\n",
    "arr = image.img_to_array(img)\n",
    "arr"
   ]
  },
  {
   "cell_type": "code",
   "execution_count": 21,
   "id": "00cc088a",
   "metadata": {},
   "outputs": [],
   "source": [
    "#as there is 3x3 format , we have a 3d image -> rgb \n",
    "#now we convert 3d to 4d \n",
    "\n",
    "arr =np.expand_dims(arr,axis=0)"
   ]
  },
  {
   "cell_type": "code",
   "execution_count": 22,
   "id": "b6b9c2bb",
   "metadata": {},
   "outputs": [
    {
     "data": {
      "text/plain": [
       "4"
      ]
     },
     "execution_count": 22,
     "metadata": {},
     "output_type": "execute_result"
    }
   ],
   "source": [
    "arr.ndim"
   ]
  },
  {
   "cell_type": "code",
   "execution_count": 23,
   "id": "10d80afb",
   "metadata": {},
   "outputs": [
    {
     "data": {
      "text/plain": [
       "(1, 64, 64, 3)"
      ]
     },
     "execution_count": 23,
     "metadata": {},
     "output_type": "execute_result"
    }
   ],
   "source": [
    "arr.shape\n",
    "#(batch size,image length , breath , height) not in particular order\n",
    "#batch size is 1 -> even though we used 32 for batch size cuz thats only one image"
   ]
  },
  {
   "cell_type": "code",
   "execution_count": 24,
   "id": "a5bf9c30",
   "metadata": {},
   "outputs": [
    {
     "name": "stdout",
     "output_type": "stream",
     "text": [
      "1/1 [==============================] - 0s 184ms/step\n"
     ]
    }
   ],
   "source": [
    "pred=model.predict(arr)"
   ]
  },
  {
   "cell_type": "code",
   "execution_count": 25,
   "id": "2a26267c",
   "metadata": {},
   "outputs": [
    {
     "data": {
      "text/plain": [
       "array([[0., 0., 0., 0., 0., 0., 0., 0., 1., 0., 0., 0., 0., 0., 0., 0.,\n",
       "        0., 0., 0., 0., 0., 0., 0.]], dtype=float32)"
      ]
     },
     "execution_count": 25,
     "metadata": {},
     "output_type": "execute_result"
    }
   ],
   "source": [
    "pred"
   ]
  },
  {
   "cell_type": "code",
   "execution_count": 26,
   "id": "b52c52c5",
   "metadata": {},
   "outputs": [
    {
     "name": "stdout",
     "output_type": "stream",
     "text": [
      "{'Clams': 0, 'Corals': 1, 'Crabs': 2, 'Dolphin': 3, 'Eel': 4, 'Fish': 5, 'Jelly Fish': 6, 'Lobster': 7, 'Nudibranchs': 8, 'Octopus': 9, 'Otter': 10, 'Penguin': 11, 'Puffers': 12, 'Sea Rays': 13, 'Sea Urchins': 14, 'Seahorse': 15, 'Seal': 16, 'Sharks': 17, 'Shrimps': 18, 'Squid': 19, 'Starfish': 20, 'Turtle_Tortoise': 21, 'Whale': 22}\n"
     ]
    }
   ],
   "source": [
    "#so image being of class with 1 is high\n",
    "#to check which class it blongss to\n",
    "print(x_train.class_indices)"
   ]
  },
  {
   "cell_type": "code",
   "execution_count": 27,
   "id": "ebd5bf83",
   "metadata": {},
   "outputs": [
    {
     "data": {
      "text/plain": [
       "array([8], dtype=int64)"
      ]
     },
     "execution_count": 27,
     "metadata": {},
     "output_type": "execute_result"
    }
   ],
   "source": [
    "#as we can se the image belongs to class elephants\n",
    "\n",
    "pred_class=np.argmax(pred,axis=1)\n",
    "pred_class\n",
    "#maximum value is at array index 2 "
   ]
  },
  {
   "cell_type": "code",
   "execution_count": 28,
   "id": "95ee2d59",
   "metadata": {},
   "outputs": [
    {
     "data": {
      "text/plain": [
       "8"
      ]
     },
     "execution_count": 28,
     "metadata": {},
     "output_type": "execute_result"
    }
   ],
   "source": [
    "pred_class[0]"
   ]
  },
  {
   "cell_type": "code",
   "execution_count": 31,
   "id": "b0d68177",
   "metadata": {},
   "outputs": [
    {
     "data": {
      "text/plain": [
       "'Nudibranchs'"
      ]
     },
     "execution_count": 31,
     "metadata": {},
     "output_type": "execute_result"
    }
   ],
   "source": [
    "index=[\"Clams\",\"Corals\",\"Crabs\",\"Dolphin\",\"Eel\",\"Fish\",\"Jelly Fish\",\"Lobster\",\"Nudibranchs\",\"Octopus\",\"Otter\",\"Penguin\",\"Puffers\",\"Sea Rays\",\"Sea Urchins\",\"Seahorse\",\"Seal\",\"Sharks\",\"Shrimps\",\"Squid\",\"Starfish\",\"Turtle_Tortoise\",\"Whale\"]\n",
    "result=str(index[pred_class[0]])\n",
    "result"
   ]
  },
  {
   "cell_type": "code",
   "execution_count": null,
   "id": "a8f6d059",
   "metadata": {},
   "outputs": [],
   "source": []
  }
 ],
 "metadata": {
  "kernelspec": {
   "display_name": "Python 3 (ipykernel)",
   "language": "python",
   "name": "python3"
  },
  "language_info": {
   "codemirror_mode": {
    "name": "ipython",
    "version": 3
   },
   "file_extension": ".py",
   "mimetype": "text/x-python",
   "name": "python",
   "nbconvert_exporter": "python",
   "pygments_lexer": "ipython3",
   "version": "3.11.5"
  }
 },
 "nbformat": 4,
 "nbformat_minor": 5
}
